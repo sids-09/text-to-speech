from gtts import gTTS
import os
text='My name is Siddhesh. Welcome to my account'
language='en'
output=gTTS(text=text, lang=language, slow=False) 
output.save("welcome.mp3") 
os.system("mpg321 welcome.mp3") 